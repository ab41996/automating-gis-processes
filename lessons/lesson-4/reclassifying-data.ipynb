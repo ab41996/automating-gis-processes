{
 "cells": [
  {
   "cell_type": "markdown",
   "id": "df4abb24",
   "metadata": {},
   "source": [
    "# Reclassifying data\n",
    "\n",
    "Reclassifying data based on specific criteria is a common task when doing GIS\n",
    "analysis. The purpose of this lesson is to see how we can reclassify values\n",
    "based on some criteria. We could, for example, classify information based on\n",
    "travel times and housing prices using these criteria:\n",
    "\n",
    "\n",
    "1. if travel time to my work is less than 30 minutes, **AND**\n",
    "2. the rent of the apartment is less than 1000 € per month\n",
    "\n",
    "If both criteria are met: I go to see the appartment and try to rent it\n",
    "If not: I continue to look for something else\n",
    "\n",
    "\n",
    "In this tutorial, we will:\n",
    "\n",
    "1. Use classification schemes from the PySAL [mapclassify\n",
    "   library](https://pysal.org/mapclassify/) to classify travel times into\n",
    "   multiple classes.\n",
    "\n",
    "2. Create a custom classifier to classify travel times and distances in order\n",
    "   to find out good locations to buy an apartment with these conditions:\n",
    "   - good public transport accessibility to city center\n",
    "   - bit further away from city center where the prices are presumably lower\n",
    "\n",
    "\n",
    "## Input data\n",
    "\n",
    "We will use [Travel Time Matrix data from\n",
    "Helsinki](https://blogs.helsinki.fi/accessibility/helsinki-region-travel-time-matrix/)\n",
    "that contains travel time and distance information for routes between all 250 m\n",
    "x 250 m grid cell centroids (n = 13231) in the Capital Region of Helsinki by\n",
    "walking, cycling, public transportation and car."
   ]
  },
  {
   "cell_type": "code",
   "execution_count": 2,
   "id": "a35ffb01",
   "metadata": {},
   "outputs": [],
   "source": [
    "import pathlib \n",
    "NOTEBOOK_PATH = pathlib.Path().resolve()\n",
    "DATA_DIRECTORY = NOTEBOOK_PATH / \"data\""
   ]
  },
  {
   "cell_type": "code",
   "execution_count": 3,
   "id": "26d82c76",
   "metadata": {},
   "outputs": [
    {
     "data": {
      "text/html": [
       "<div>\n",
       "<style scoped>\n",
       "    .dataframe tbody tr th:only-of-type {\n",
       "        vertical-align: middle;\n",
       "    }\n",
       "\n",
       "    .dataframe tbody tr th {\n",
       "        vertical-align: top;\n",
       "    }\n",
       "\n",
       "    .dataframe thead th {\n",
       "        text-align: right;\n",
       "    }\n",
       "</style>\n",
       "<table border=\"1\" class=\"dataframe\">\n",
       "  <thead>\n",
       "    <tr style=\"text-align: right;\">\n",
       "      <th></th>\n",
       "      <th>car_m_d</th>\n",
       "      <th>car_m_t</th>\n",
       "      <th>car_r_d</th>\n",
       "      <th>car_r_t</th>\n",
       "      <th>from_id</th>\n",
       "      <th>pt_m_d</th>\n",
       "      <th>pt_m_t</th>\n",
       "      <th>pt_m_tt</th>\n",
       "      <th>pt_r_d</th>\n",
       "      <th>pt_r_t</th>\n",
       "      <th>pt_r_tt</th>\n",
       "      <th>to_id</th>\n",
       "      <th>walk_d</th>\n",
       "      <th>walk_t</th>\n",
       "      <th>geometry</th>\n",
       "    </tr>\n",
       "  </thead>\n",
       "  <tbody>\n",
       "    <tr>\n",
       "      <th>0</th>\n",
       "      <td>32297</td>\n",
       "      <td>43</td>\n",
       "      <td>32260</td>\n",
       "      <td>48</td>\n",
       "      <td>5785640</td>\n",
       "      <td>32616</td>\n",
       "      <td>116</td>\n",
       "      <td>147</td>\n",
       "      <td>32616</td>\n",
       "      <td>108</td>\n",
       "      <td>139</td>\n",
       "      <td>5975375</td>\n",
       "      <td>32164</td>\n",
       "      <td>459</td>\n",
       "      <td>POLYGON ((382000 6697750, 381750 6697750, 3817...</td>\n",
       "    </tr>\n",
       "    <tr>\n",
       "      <th>1</th>\n",
       "      <td>32508</td>\n",
       "      <td>43</td>\n",
       "      <td>32471</td>\n",
       "      <td>49</td>\n",
       "      <td>5785641</td>\n",
       "      <td>32822</td>\n",
       "      <td>119</td>\n",
       "      <td>145</td>\n",
       "      <td>32822</td>\n",
       "      <td>111</td>\n",
       "      <td>133</td>\n",
       "      <td>5975375</td>\n",
       "      <td>29547</td>\n",
       "      <td>422</td>\n",
       "      <td>POLYGON ((382250 6697750, 382000 6697750, 3820...</td>\n",
       "    </tr>\n",
       "    <tr>\n",
       "      <th>2</th>\n",
       "      <td>30133</td>\n",
       "      <td>50</td>\n",
       "      <td>31872</td>\n",
       "      <td>56</td>\n",
       "      <td>5785642</td>\n",
       "      <td>32940</td>\n",
       "      <td>121</td>\n",
       "      <td>146</td>\n",
       "      <td>32940</td>\n",
       "      <td>113</td>\n",
       "      <td>133</td>\n",
       "      <td>5975375</td>\n",
       "      <td>29626</td>\n",
       "      <td>423</td>\n",
       "      <td>POLYGON ((382500 6697750, 382250 6697750, 3822...</td>\n",
       "    </tr>\n",
       "    <tr>\n",
       "      <th>3</th>\n",
       "      <td>32690</td>\n",
       "      <td>54</td>\n",
       "      <td>34429</td>\n",
       "      <td>60</td>\n",
       "      <td>5785643</td>\n",
       "      <td>33233</td>\n",
       "      <td>125</td>\n",
       "      <td>150</td>\n",
       "      <td>33233</td>\n",
       "      <td>117</td>\n",
       "      <td>144</td>\n",
       "      <td>5975375</td>\n",
       "      <td>29919</td>\n",
       "      <td>427</td>\n",
       "      <td>POLYGON ((382750 6697750, 382500 6697750, 3825...</td>\n",
       "    </tr>\n",
       "    <tr>\n",
       "      <th>4</th>\n",
       "      <td>31872</td>\n",
       "      <td>42</td>\n",
       "      <td>31834</td>\n",
       "      <td>48</td>\n",
       "      <td>5787544</td>\n",
       "      <td>32127</td>\n",
       "      <td>109</td>\n",
       "      <td>126</td>\n",
       "      <td>32127</td>\n",
       "      <td>101</td>\n",
       "      <td>121</td>\n",
       "      <td>5975375</td>\n",
       "      <td>31674</td>\n",
       "      <td>452</td>\n",
       "      <td>POLYGON ((381250 6697500, 381000 6697500, 3810...</td>\n",
       "    </tr>\n",
       "  </tbody>\n",
       "</table>\n",
       "</div>"
      ],
      "text/plain": [
       "   car_m_d  car_m_t  car_r_d  car_r_t  from_id  pt_m_d  pt_m_t  pt_m_tt  \\\n",
       "0    32297       43    32260       48  5785640   32616     116      147   \n",
       "1    32508       43    32471       49  5785641   32822     119      145   \n",
       "2    30133       50    31872       56  5785642   32940     121      146   \n",
       "3    32690       54    34429       60  5785643   33233     125      150   \n",
       "4    31872       42    31834       48  5787544   32127     109      126   \n",
       "\n",
       "   pt_r_d  pt_r_t  pt_r_tt    to_id  walk_d  walk_t  \\\n",
       "0   32616     108      139  5975375   32164     459   \n",
       "1   32822     111      133  5975375   29547     422   \n",
       "2   32940     113      133  5975375   29626     423   \n",
       "3   33233     117      144  5975375   29919     427   \n",
       "4   32127     101      121  5975375   31674     452   \n",
       "\n",
       "                                            geometry  \n",
       "0  POLYGON ((382000 6697750, 381750 6697750, 3817...  \n",
       "1  POLYGON ((382250 6697750, 382000 6697750, 3820...  \n",
       "2  POLYGON ((382500 6697750, 382250 6697750, 3822...  \n",
       "3  POLYGON ((382750 6697750, 382500 6697750, 3825...  \n",
       "4  POLYGON ((381250 6697500, 381000 6697500, 3810...  "
      ]
     },
     "execution_count": 3,
     "metadata": {},
     "output_type": "execute_result"
    }
   ],
   "source": [
    "import geopandas\n",
    "accessibility_grid = geopandas.read_file(\n",
    "    DATA_DIRECTORY\n",
    "    / \"helsinki_region_travel_times_to_railway_station\"\n",
    "    / \"helsinki_region_travel_times_to_railway_station.gpkg\"\n",
    ")\n",
    "accessibility_grid.head()"
   ]
  },
  {
   "cell_type": "markdown",
   "id": "7dad6a06",
   "metadata": {},
   "source": [
    "## Common classifiers\n",
    "\n",
    "### Classification schemes for thematic maps\n",
    "\n",
    "[PySAL](https://pysal.org/) -module is an extensive Python library for spatial\n",
    "analysis. It also includes all of the most common data classifiers that are\n",
    "used commonly e.g. when visualizing data. Available map classifiers in [pysal's\n",
    "mapclassify -module](https://github.com/pysal/mapclassify):\n",
    "\n",
    "- Box Plot\n",
    "- Equal Interval\n",
    "- Fisher Jenks\n",
    "- Fisher Jenks Sampled\n",
    "- HeadTail Breaks\n",
    "- Jenks Caspall\n",
    "- Jenks Caspall Forced\n",
    "- Jenks Caspall Sampled\n",
    "- Max P Classifier\n",
    "- Maximum Breaks\n",
    "- Natural Breaks\n",
    "- Quantiles\n",
    "- Percentiles\n",
    "- Std Mean\n",
    "- User Defined\n",
    "\n",
    "\n",
    "There are plenty of different variables in the accessibility data set (see\n",
    "[from here the\n",
    "description](http://blogs.helsinki.fi/accessibility/helsinki-region-travel-time-matrix-2015)\n",
    "for all attributes) but what we are interested in are columns called `pt_r_tt`\n",
    "which is telling the time in minutes that it takes to reach city center from\n",
    "different parts of the city, and `walk_d` that tells the network distance by\n",
    "roads to reach city center from different parts of the city (almost equal to\n",
    "Euclidian distance).\n",
    "\n",
    "**The NoData values are presented with value -1**. \n",
    "Thus we need to remove the No Data values first."
   ]
  },
  {
   "cell_type": "code",
   "execution_count": 4,
   "id": "fcda7884",
   "metadata": {},
   "outputs": [],
   "source": [
    "# Include only data that is above or equal to 0\n",
    "accessibility_grid = accessibility_grid.loc[accessibility_grid[\"pt_r_tt\"] >=0]"
   ]
  },
  {
   "cell_type": "markdown",
   "id": "5e19de2a",
   "metadata": {},
   "source": [
    "Let's plot the data and see how it looks like\n",
    "- `cmap` parameter defines the color map. Read more about [choosing colormaps in matplotlib](https://matplotlib.org/3.1.0/tutorials/colors/colormaps.html)\n",
    "- `scheme` option scales the colors according to a classification scheme (requires `mapclassify` module to be installed):"
   ]
  },
  {
   "cell_type": "code",
   "execution_count": 5,
   "id": "70305ffd",
   "metadata": {},
   "outputs": [
    {
     "data": {
      "text/plain": [
       "<Axes: >"
      ]
     },
     "execution_count": 5,
     "metadata": {},
     "output_type": "execute_result"
    },
    {
     "data": {
      "image/png": "[encoded data removed]",
      "text/plain": [
       "<Figure size 640x480 with 1 Axes>"
      ]
     },
     "metadata": {},
     "output_type": "display_data"
    }
   ],
   "source": [
    "# Plot using 9 classes and classify the values using \"Natural Breaks\" classification\n",
    "accessibility_grid.plot(column=\"pt_r_tt\", scheme=\"Natural_Breaks\", k=9, cmap=\"RdYlBu\", linewidth=0, legend=True)"
   ]
  },
  {
   "cell_type": "markdown",
   "id": "c3bebaf0",
   "metadata": {},
   "source": [
    "As we can see from this map, the travel times are lower in the south where the\n",
    "city center is located but there are some areas of \"good\" accessibility also in\n",
    "some other areas (where the color is red).\n",
    "\n",
    "Let's also make a plot about walking distances:"
   ]
  },
  {
   "cell_type": "code",
   "execution_count": 6,
   "id": "db2fcf38",
   "metadata": {},
   "outputs": [
    {
     "data": {
      "text/plain": [
       "<Axes: >"
      ]
     },
     "execution_count": 6,
     "metadata": {},
     "output_type": "execute_result"
    },
    {
     "data": {
      "image/png": "[encoded data removed]",
      "text/plain": [
       "<Figure size 640x480 with 1 Axes>"
      ]
     },
     "metadata": {},
     "output_type": "display_data"
    }
   ],
   "source": [
    "# Plot walking distance\n",
    "accessibility_grid.plot(column=\"walk_d\", scheme=\"Natural_Breaks\", k=9, cmap=\"RdYlBu\", linewidth=0, legend=True)\n"
   ]
  },
  {
   "cell_type": "markdown",
   "id": "4325c333",
   "metadata": {},
   "source": [
    "Okay, from here we can see that the walking distances (along road network)\n",
    "reminds more or less Euclidian distances. \n",
    "\n",
    "### Applying classifiers to data\n",
    "\n",
    "As mentioned, the `scheme` option defines the classification scheme using\n",
    "`pysal/mapclassify`. Let's have a closer look at how these classifiers work."
   ]
  },
  {
   "cell_type": "code",
   "execution_count": 7,
   "id": "96f8759d",
   "metadata": {},
   "outputs": [],
   "source": [
    "import mapclassify"
   ]
  },
  {
   "cell_type": "markdown",
   "id": "4e8bb579",
   "metadata": {},
   "source": [
    "#### Natural Breaks"
   ]
  },
  {
   "cell_type": "code",
   "execution_count": 8,
   "id": "46c44b67",
   "metadata": {},
   "outputs": [
    {
     "data": {
      "text/plain": [
       "NaturalBreaks\n",
       "\n",
       "    Interval       Count\n",
       "------------------------\n",
       "[  0.00,  31.00] |   926\n",
       "( 31.00,  44.00] |  2497\n",
       "( 44.00,  55.00] |  2443\n",
       "( 55.00,  65.00] |  1873\n",
       "( 65.00,  75.00] |  1373\n",
       "( 75.00,  87.00] |  1608\n",
       "( 87.00, 103.00] |  1263\n",
       "(103.00, 127.00] |   838\n",
       "(127.00, 199.00] |   199"
      ]
     },
     "execution_count": 8,
     "metadata": {},
     "output_type": "execute_result"
    }
   ],
   "source": [
    "mapclassify.NaturalBreaks(y=accessibility_grid[\"pt_r_tt\"], k=9)\n"
   ]
  },
  {
   "cell_type": "markdown",
   "id": "ac423dd2",
   "metadata": {},
   "source": [
    "#### Quantiles (default is 5 classes):"
   ]
  },
  {
   "cell_type": "code",
   "execution_count": 10,
   "id": "2543d589",
   "metadata": {},
   "outputs": [
    {
     "data": {
      "text/plain": [
       "Quantiles\n",
       "\n",
       "    Interval       Count\n",
       "------------------------\n",
       "[  0.00,  41.00] |  2674\n",
       "( 41.00,  52.00] |  2576\n",
       "( 52.00,  66.00] |  2623\n",
       "( 66.00,  85.00] |  2616\n",
       "( 85.00, 199.00] |  2531"
      ]
     },
     "execution_count": 10,
     "metadata": {},
     "output_type": "execute_result"
    }
   ],
   "source": [
    "mapclassify.Quantiles(y=accessibility_grid[\"pt_r_tt\"])\n"
   ]
  },
  {
   "cell_type": "markdown",
   "id": "4a214a91",
   "metadata": {},
   "source": [
    "#### Extract threshold values\n",
    "\n",
    "It's possible to extract the threshold values into an array:"
   ]
  },
  {
   "cell_type": "code",
   "execution_count": 9,
   "id": "c90f4c2a",
   "metadata": {},
   "outputs": [
    {
     "data": {
      "text/plain": [
       "Quantiles\n",
       "\n",
       "    Interval       Count\n",
       "------------------------\n",
       "[  0.00,  41.00] |  2674\n",
       "( 41.00,  52.00] |  2576\n",
       "( 52.00,  66.00] |  2623\n",
       "( 66.00,  85.00] |  2616\n",
       "( 85.00, 199.00] |  2531"
      ]
     },
     "execution_count": 9,
     "metadata": {},
     "output_type": "execute_result"
    }
   ],
   "source": [
    "mapclassify.Quantiles(y=accessibility_grid[\"pt_r_tt\"])\n"
   ]
  },
  {
   "cell_type": "markdown",
   "id": "1a293eed",
   "metadata": {},
   "source": [
    "Let's apply one of the `Pysal` classifiers into our data and classify the\n",
    "travel times by public transport into 9 classes\n",
    "The classifier needs to be initialized first with `make()` function that takes\n",
    "the number of desired classes as input parameter"
   ]
  },
  {
   "cell_type": "code",
   "execution_count": 11,
   "id": "74a2224e",
   "metadata": {},
   "outputs": [
    {
     "data": {
      "text/plain": [
       "array([ 31.,  44.,  54.,  65.,  77.,  90., 104., 126., 199.])"
      ]
     },
     "execution_count": 11,
     "metadata": {},
     "output_type": "execute_result"
    }
   ],
   "source": [
    "# Create a Natural Breaks classifier\n",
    "classifier = mapclassify.NaturalBreaks(y=accessibility_grid[\"pt_r_tt\"], k=9)\n",
    "classifier.bins"
   ]
  },
  {
   "cell_type": "markdown",
   "id": "0537229a",
   "metadata": {},
   "source": [
    "- Now we can apply that classifier into our data by using `apply` -function"
   ]
  },
  {
   "cell_type": "code",
   "execution_count": 12,
   "id": "f00144f4",
   "metadata": {},
   "outputs": [],
   "source": [
    "# Classify the data\n",
    "classifier = mapclassify.NaturalBreaks.make(k=9)\n"
   ]
  },
  {
   "cell_type": "code",
   "execution_count": null,
   "id": "68088985",
   "metadata": {},
   "outputs": [],
   "source": [
    "#HERE!!"
   ]
  },
  {
   "cell_type": "markdown",
   "id": "fb44ac91",
   "metadata": {},
   "source": [
    "Okay, so now we have a DataFrame where our input column was classified into 9\n",
    "different classes (numbers 1-9) based on [Natural Breaks\n",
    "classification](http://wiki-1-1930356585.us-east-1.elb.amazonaws.com/wiki/index.php/Jenks_Natural_Breaks_Classification).\n",
    "\n",
    "We can also add the classification values directly into a new column in our dataframe:"
   ]
  },
  {
   "cell_type": "code",
   "execution_count": null,
   "id": "0c411712",
   "metadata": {},
   "outputs": [],
   "source": [
    "# Rename the column so that we know that it was classified with natural breaks\n",
    "accessibility_grid[\"nb_pt_r_tt\"] = accessibility_grid[[\"pt_r_tt\"]].apply(classifier)\n",
    "\n",
    "# Check the original values and classification\n",
    "accessibility_grid[[\"pt_r_tt\", \"nb_pt_r_tt\"]].head()"
   ]
  },
  {
   "cell_type": "markdown",
   "id": "f8a2cd0c",
   "metadata": {},
   "source": [
    "Great, now we have those values in our accessibility GeoDataFrame. Let's\n",
    "visualize the results and see how they look."
   ]
  },
  {
   "cell_type": "code",
   "execution_count": null,
   "id": "a3e8215c",
   "metadata": {},
   "outputs": [],
   "source": []
  },
  {
   "cell_type": "markdown",
   "id": "b5cb5538",
   "metadata": {},
   "source": [
    "And here we go, now we have a map where we have used one of the common\n",
    "classifiers to classify our data into 9 classes.\n",
    "\n",
    "\n",
    "## Plotting a histogram\n",
    "\n",
    "A histogram is a graphic representation of the distribution of the data. When\n",
    "classifying the data, it's always good to consider how the data is distributed,\n",
    "and how the classification shceme divides values into different ranges. \n",
    "\n",
    "- plot the histogram using [pandas.DataFrame.plot.hist](https://pandas.pydata.org/pandas-docs/stable/reference/api/pandas.DataFrame.plot.hist.html)\n",
    "- Number of histogram bins (groups of data) can be controlled using the parameter `bins`:"
   ]
  },
  {
   "cell_type": "code",
   "execution_count": null,
   "id": "d58d27b0",
   "metadata": {},
   "outputs": [],
   "source": []
  },
  {
   "cell_type": "markdown",
   "id": "c8f8d5f7",
   "metadata": {},
   "source": [
    "Let's also add threshold values on thop of the histogram as vertical lines.\n",
    "\n",
    "- Natural Breaks:"
   ]
  },
  {
   "cell_type": "code",
   "execution_count": null,
   "id": "953adf26",
   "metadata": {},
   "outputs": [],
   "source": [
    "import matplotlib.pyplot as plt\n",
    "\n",
    "# Define classifier\n",
    "classifier = mapclassify.NaturalBreaks(y=accessibility_grid[\"pt_r_tt\"], k=9)\n",
    "\n",
    "# Plot histogram for public transport rush hour travel time\n",
    "accessibility_grid[\"pt_r_tt\"].plot.hist(bins=50)\n",
    "\n",
    "# Add vertical lines for class breaks\n",
    "for break_point in classifier.bins:\n",
    "    plt.axvline(break_point, color=\"k\", linestyle=\"dashed\", linewidth=1)"
   ]
  },
  {
   "cell_type": "markdown",
   "id": "53a131ff",
   "metadata": {},
   "source": [
    "- Quantiles:"
   ]
  },
  {
   "cell_type": "code",
   "execution_count": null,
   "id": "8dc5bf66",
   "metadata": {},
   "outputs": [],
   "source": [
    "# Define classifier\n",
    "classifier = mapclassify.Quantiles(y=accessibility_grid['pt_r_tt'])\n",
    "\n",
    "# Plot histogram for public transport rush hour travel time\n",
    "accessibility_grid[\"pt_r_tt\"].plot.hist(bins=50)\n",
    "\n",
    "for break_point in classifier.bins:\n",
    "    plt.axvline(break_point, color=\"k\", linestyle=\"dashed\", linewidth=1)"
   ]
  },
  {
   "cell_type": "markdown",
   "id": "85d7f94f",
   "metadata": {},
   "source": [
    ":::{admonition} Check your understanding\n",
    ":class: tip\n",
    "\n",
    "Select another column from the data (for example, travel times by car:\n",
    "`car_r_t`). Do the following visualizations using one of the classification\n",
    "schemes available from\n",
    "[pysal/mapclassify](https://github.com/pysal/mapclassify):\n",
    "    \n",
    "- histogram with vertical lines showing the classification bins\n",
    "- thematic map using the classification scheme\n",
    ":::\n",
    "\n",
    "\n",
    "## Applying a custom classifier\n",
    "\n",
    "### Multicriteria data classification\n",
    "\n",
    "\n",
    "\n",
    "Let's classify the geometries into two classes based\n",
    "on a given `threshold` -parameter. If the area of a polygon is lower than the\n",
    "threshold value (e.g., a certain distance), the output column will get a value\n",
    "0, if it is larger, it will get a value 1. This kind of classification is often\n",
    "called a [binary\n",
    "classification](https://en.wikipedia.org/wiki/Binary_classification).\n",
    "\n",
    "To classify each row of our GeoDataFrame we can iterate over each row or we can apply\n",
    "a function for each row. In our case, we will apply a [lambda function](https://autogis-site.readthedocs.io/en/latest/lessons/lesson-1/exercise-1.html#apply-ing-an-anonymous-lambda-function) for each row in\n",
    "our GeoDataFrame, which returns a value based on the conditions we provide.\n",
    "\n",
    "Let's do our classification based on two criteria: and find out grid cells\n",
    "\n",
    "1. Grid cells where the travel time is **lower or equal to 20 minutes** \n",
    "\n",
    "2. *and* they are further away **than 4 km (4000 meters)** from the city center.\n",
    "\n",
    "\n",
    "Let's first see how to classify a single row:"
   ]
  },
  {
   "cell_type": "code",
   "execution_count": null,
   "id": "10d95e2c",
   "metadata": {},
   "outputs": [],
   "source": [
    "accessibility_grid.iloc[0][\"pt_r_tt\"] < 20 and accessibility_grid.iloc[0][\"walk_d\"] > 4000"
   ]
  },
  {
   "cell_type": "code",
   "execution_count": null,
   "id": "97f68bfe",
   "metadata": {},
   "outputs": [],
   "source": []
  },
  {
   "cell_type": "markdown",
   "id": "f9b2952e",
   "metadata": {},
   "source": [
    "Let's now apply this to our GeoDataFrame and save it to a column called `\"suitable_area\"`:"
   ]
  },
  {
   "cell_type": "code",
   "execution_count": null,
   "id": "4e106edd",
   "metadata": {},
   "outputs": [],
   "source": [
    "accessibility_grid[\"suitable_area\"] = accessibility_grid.apply(lambda row: int(row[\"pt_r_tt\"] < 20 and row[\"walk_d\"] > 4000), axis=1)"
   ]
  },
  {
   "cell_type": "code",
   "execution_count": null,
   "id": "1493534d",
   "metadata": {},
   "outputs": [],
   "source": []
  },
  {
   "cell_type": "markdown",
   "id": "b9d1a9b3",
   "metadata": {},
   "source": [
    "Okey we have new values in `suitable_area` -column.\n",
    "\n",
    "- How many Polygons are suitable for us? Let's find out by using a Pandas\n",
    "  function called `value_counts()` that return the count of different values in\n",
    "  our column."
   ]
  },
  {
   "cell_type": "code",
   "execution_count": null,
   "id": "53e1bd19",
   "metadata": {},
   "outputs": [],
   "source": []
  },
  {
   "cell_type": "markdown",
   "id": "3d8f3f46",
   "metadata": {},
   "source": [
    "Okay, so there seems to be nine suitable locations for us where we can try to\n",
    "find an appartment to buy.\n",
    "\n",
    "- Let's see where they are located:"
   ]
  },
  {
   "cell_type": "code",
   "execution_count": null,
   "id": "e48fd661",
   "metadata": {},
   "outputs": [],
   "source": [
    "accessibility_grid.plot(column=\"suitable_area\", linewidth=0)"
   ]
  },
  {
   "cell_type": "markdown",
   "id": "251855d4",
   "metadata": {},
   "source": [
    "A-haa, okay so we can see that suitable places for us with our criteria seem to\n",
    "be located in the eastern part from the city center. Actually, those locations\n",
    "are along the metro line which makes them good locations in terms of travel\n",
    "time to city center since metro is really fast travel mode."
   ]
  }
 ],
 "metadata": {
  "kernelspec": {
   "display_name": "Python 3 (ipykernel)",
   "language": "python",
   "name": "python3"
  },
  "language_info": {
   "codemirror_mode": {
    "name": "ipython",
    "version": 3
   },
   "file_extension": ".py",
   "mimetype": "text/x-python",
   "name": "python",
   "nbconvert_exporter": "python",
   "pygments_lexer": "ipython3",
   "version": "3.10.18"
  }
 },
 "nbformat": 4,
 "nbformat_minor": 5
}
